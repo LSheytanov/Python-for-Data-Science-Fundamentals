{
 "cells": [
  {
   "cell_type": "code",
   "execution_count": 1,
   "metadata": {},
   "outputs": [
    {
     "name": "stdout",
     "output_type": "stream",
     "text": [
      "103945\n",
      "103945\n"
     ]
    }
   ],
   "source": [
    "a_list = [4444, 8897, 6340, 9896, 4835, 4324, 10, 6445,\n",
    "          661, 1246, 1000, 7429, 1376, 8121, 647, 1280,\n",
    "          3993, 4881, 9500, 6701, 1199, 6251, 4432, 37]\n",
    "\n",
    "sum_manual = 0\n",
    "for i in a_list:\n",
    "    sum_manual = sum_manual + i\n",
    "print(sum_manual)\n",
    "print(sum(a_list))"
   ]
  },
  {
   "cell_type": "code",
   "execution_count": 2,
   "metadata": {},
   "outputs": [
    {
     "name": "stdout",
     "output_type": "stream",
     "text": [
      "{'4+': 3, '9+': 1, '12+': 2, '17+': 2}\n"
     ]
    }
   ],
   "source": [
    "ratings = ['4+', '4+', '4+', '9+', '12+', '12+', '17+', '17+']\n",
    "\n",
    "content_ratings = {}\n",
    "\n",
    "for i in ratings:\n",
    "    if i in content_ratings:\n",
    "        content_ratings[i] += 1\n",
    "    else:\n",
    "        content_ratings[i] = 1\n",
    "        \n",
    "print(content_ratings)"
   ]
  },
  {
   "cell_type": "code",
   "execution_count": 3,
   "metadata": {},
   "outputs": [],
   "source": [
    "def square(a_number):\n",
    "    squared_number = a_number * a_number\n",
    "    return squared_number\n",
    "squared_10 = square(a_number = 10)\n",
    "squared_16 = square(a_number = 16)"
   ]
  },
  {
   "cell_type": "code",
   "execution_count": 4,
   "metadata": {},
   "outputs": [],
   "source": [
    "def add_10(number):\n",
    "    add10=number+10\n",
    "    return add10\n",
    "\n",
    "add_30=add_10(30)\n",
    "add_90=add_10(90)"
   ]
  },
  {
   "cell_type": "code",
   "execution_count": 5,
   "metadata": {},
   "outputs": [],
   "source": [
    "def square(p):\n",
    "    return p*p\n",
    "\n",
    "squared_6 = square(6)\n",
    "squared_11 = square(11)"
   ]
  },
  {
   "cell_type": "code",
   "execution_count": 6,
   "metadata": {},
   "outputs": [],
   "source": [
    "opened_file = open('AppleStore.csv')\n",
    "from csv import reader\n",
    "read_file = reader(opened_file)\n",
    "apps_data = list(read_file)\n",
    "\n",
    "def extract(index):\n",
    "    e_list = []\n",
    "    for i in apps_data[1:]:\n",
    "        value = i[index]\n",
    "        e_list.append(value)\n",
    "    return e_list\n",
    "\n",
    "genres = extract(11)"
   ]
  },
  {
   "cell_type": "code",
   "execution_count": 7,
   "metadata": {},
   "outputs": [
    {
     "name": "stdout",
     "output_type": "stream",
     "text": [
      "{'Social Networking': 167, 'Photo & Video': 349, 'Games': 3862, 'Music': 138, 'Reference': 64, 'Health & Fitness': 180, 'Weather': 72, 'Utilities': 248, 'Travel': 81, 'Shopping': 122, 'News': 75, 'Navigation': 46, 'Lifestyle': 144, 'Entertainment': 535, 'Food & Drink': 63, 'Sports': 114, 'Book': 112, 'Finance': 104, 'Education': 453, 'Productivity': 178, 'Business': 57, 'Catalogs': 10, 'Medical': 23}\n"
     ]
    }
   ],
   "source": [
    "opened_file = open('AppleStore.csv')\n",
    "from csv import reader\n",
    "read_file = reader(opened_file)\n",
    "apps_data = list(read_file)\n",
    "\n",
    "def extract(index):\n",
    "    column = []    \n",
    "    for row in apps_data[1:]:\n",
    "        value = row[index]\n",
    "        column.append(value)    \n",
    "    return column\n",
    "\n",
    "genres = extract(11)\n",
    "\n",
    "def freq_table(a_list):\n",
    "    e_dict = {}\n",
    "    for i in a_list:\n",
    "        if i in e_dict:\n",
    "            e_dict[i] +=1\n",
    "        else:\n",
    "            e_dict[i] = 1\n",
    "    return e_dict\n",
    "    \n",
    "genres_ft = freq_table(genres)\n",
    "print(genres_ft)"
   ]
  },
  {
   "cell_type": "code",
   "execution_count": 8,
   "metadata": {},
   "outputs": [
    {
     "name": "stdout",
     "output_type": "stream",
     "text": [
      "{'3.5': 702, '4.5': 2663, '4.0': 1626, '3.0': 383, '5.0': 492, '2.5': 196, '2.0': 106, '1.5': 56, '1.0': 44, '0.0': 929}\n"
     ]
    }
   ],
   "source": [
    "opened_file = open('AppleStore.csv')\n",
    "from csv import reader\n",
    "read_file = reader(opened_file)\n",
    "apps_data = list(read_file)\n",
    "\n",
    "def freq_table(index):\n",
    "    e_dict = {}\n",
    "    \n",
    "    for i in apps_data[1:]:\n",
    "        value = i[index]\n",
    "        if value in e_dict:\n",
    "            e_dict[value] += 1\n",
    "        else:\n",
    "            e_dict[value] = 1\n",
    "    return e_dict\n",
    "            \n",
    "ratings_ft = freq_table(7)\n",
    "\n",
    "print(ratings_ft)"
   ]
  },
  {
   "cell_type": "code",
   "execution_count": 9,
   "metadata": {},
   "outputs": [
    {
     "name": "stdout",
     "output_type": "stream",
     "text": [
      "{'3.5': 702, '4.5': 2663, '4.0': 1626, '3.0': 383, '5.0': 492, '2.5': 196, '2.0': 106, '1.5': 56, '1.0': 44, '0.0': 929}\n"
     ]
    }
   ],
   "source": [
    "opened_file = open('AppleStore.csv')\n",
    "from csv import reader\n",
    "read_file = reader(opened_file)\n",
    "apps_data = list(read_file)\n",
    "\n",
    "def freq_table(data_set, index):\n",
    "    frequency_table = {}\n",
    "    \n",
    "    for row in data_set[1:]:\n",
    "        value = row[index]\n",
    "        if value in frequency_table:\n",
    "            frequency_table[value] += 1\n",
    "        else:\n",
    "            frequency_table[value] = 1\n",
    "            \n",
    "    return frequency_table\n",
    "\n",
    "ratings_ft = freq_table(apps_data, 7)\n",
    "print(ratings_ft)"
   ]
  },
  {
   "cell_type": "code",
   "execution_count": 10,
   "metadata": {},
   "outputs": [],
   "source": [
    "opened_file = open('AppleStore.csv')\n",
    "from csv import reader\n",
    "read_file = reader(opened_file)\n",
    "apps_data = list(read_file)\n",
    "\n",
    "def freq_table(data_set, index):\n",
    "    frequency_table = {}\n",
    "    \n",
    "    for row in data_set[1:]:\n",
    "        value = row[index]\n",
    "        if value in frequency_table:\n",
    "            frequency_table[value] += 1\n",
    "        else:\n",
    "            frequency_table[value] = 1\n",
    "        \n",
    "    return frequency_table\n",
    "\n",
    "content_ratings_ft = freq_table(apps_data, 10)\n",
    "ratings_ft = freq_table(data_set = apps_data, index = 7)\n",
    "genres_ft = freq_table(data_set = apps_data, index = 11)"
   ]
  },
  {
   "cell_type": "code",
   "execution_count": 11,
   "metadata": {},
   "outputs": [],
   "source": [
    "opened_file = open('AppleStore.csv')\n",
    "from csv import reader\n",
    "read_file = reader(opened_file)\n",
    "apps_data = list(read_file)\n",
    "\n",
    "def extract(data_set, index):\n",
    "    column = []    \n",
    "    for row in data_set[1:]:\n",
    "        value = row[index]\n",
    "        column.append(value)    \n",
    "    return column\n",
    "\n",
    "def find_sum(a_list):\n",
    "    a_sum = 0\n",
    "    for element in a_list:\n",
    "        a_sum += float(element)\n",
    "    return a_sum\n",
    "\n",
    "def find_length(a_list):\n",
    "    length = 0\n",
    "    for element in a_list:\n",
    "        length += 1\n",
    "    return length\n",
    "\n",
    "def mean(data_set, index):\n",
    "    a_list = extract(data_set,index)\n",
    "    a_sum = find_sum(a_list)\n",
    "    a_length = find_length(a_list)\n",
    "    return a_sum/a_length"
   ]
  },
  {
   "cell_type": "code",
   "execution_count": 12,
   "metadata": {},
   "outputs": [],
   "source": [
    "def extract(data_set, index):\n",
    "    column = []\n",
    "    \n",
    "    for row in data_set[1:]:\n",
    "        value = row[index]\n",
    "        column.append(value)\n",
    "    \n",
    "    return column\n",
    "\n",
    "def find_sum(a_list):\n",
    "    a_sum = 0\n",
    "    for element in a_list:\n",
    "        a_sum += float( element)\n",
    "    return a_sum\n",
    "\n",
    "def find_length(a_list):\n",
    "    length = 0\n",
    "    for element in a_list:\n",
    "        length += 1\n",
    "    return length\n",
    "\n",
    "def mean(data_set, index):\n",
    "    column = extract(data_set, index)\n",
    "    return find_sum(column) / find_length(column)\n",
    "\n",
    "avg_price = mean(apps_data, 4)\n",
    "avg_rating = mean(apps_data, 7)"
   ]
  }
 ],
 "metadata": {
  "kernelspec": {
   "display_name": "Python 3",
   "language": "python",
   "name": "python3"
  },
  "language_info": {
   "codemirror_mode": {
    "name": "ipython",
    "version": 3
   },
   "file_extension": ".py",
   "mimetype": "text/x-python",
   "name": "python",
   "nbconvert_exporter": "python",
   "pygments_lexer": "ipython3",
   "version": "3.7.4"
  }
 },
 "nbformat": 4,
 "nbformat_minor": 4
}
